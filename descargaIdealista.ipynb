{
 "cells": [
  {
   "cell_type": "markdown",
   "metadata": {},
   "source": [
    "# Instalación de paquetes python.\n",
    "\n",
    "Se instalan los paquetes necesarios para realizar web scraping de la página de Idealista."
   ]
  },
  {
   "cell_type": "code",
   "execution_count": null,
   "metadata": {},
   "outputs": [],
   "source": [
    "!pip3 install beautifulsoup4 --upgrade\n",
    "!pip3 install requests\n",
    "!pip3 install selenium\n",
    "!pip3 install webdriver-manager"
   ]
  },
  {
   "cell_type": "markdown",
   "metadata": {},
   "source": [
    "# Importación de las librerias necesarias.\n",
    "\n",
    "Se importan las librerias necesarias para la ejecución del código"
   ]
  },
  {
   "cell_type": "code",
   "execution_count": 1,
   "metadata": {},
   "outputs": [],
   "source": [
    "import requests\n",
    "import bs4 as bs\n",
    "import pandas as pd\n",
    "import numpy as np\n",
    "import os\n",
    "import requests"
   ]
  },
  {
   "cell_type": "markdown",
   "metadata": {},
   "source": [
    "# Web Scraping.\n",
    "\n",
    "Se extraen desde el navegador Chrome las cookies y las headers que se utilizan para que el portal no detecte el script como un robot. "
   ]
  },
  {
   "cell_type": "code",
   "execution_count": 49,
   "metadata": {},
   "outputs": [],
   "source": [
    "cookies = {\n",
    "    'atuserid': '%7B%22name%22%3A%22atuserid%22%2C%22val%22%3A%2265923206-622f-451c-9784-07de945faea3%22%2C%22options%22%3A%7B%22end%22%3A%222024-04-23T09%3A39%3A10.029Z%22%2C%22path%22%3A%22%2F%22%7D%7D',\n",
    "    'atidvisitor': '%7B%22name%22%3A%22atidvisitor%22%2C%22val%22%3A%7B%22vrn%22%3A%22-582065-%22%7D%2C%22options%22%3A%7B%22path%22%3A%22%2F%22%2C%22session%22%3A15724800%2C%22end%22%3A15724800%7D%7D',\n",
    "    'didomi_token': 'eyJ1c2VyX2lkIjoiMTg3MGRkNjItMTIwOC02YzAyLWFiOTctMmI0NjdhMjE0OTU1IiwiY3JlYXRlZCI6IjIwMjMtMDMtMjNUMTA6NTQ6NTcuNjk5WiIsInVwZGF0ZWQiOiIyMDIzLTAzLTIzVDEwOjU0OjU3LjY5OVoiLCJ2ZXJzaW9uIjoyLCJwdXJwb3NlcyI6eyJlbmFibGVkIjpbImFuYWx5dGljcy1IcEJKcnJLNyIsImdlb2xvY2F0aW9uX2RhdGEiLCJkZXZpY2VfY2hhcmFjdGVyaXN0aWNzIl19LCJ2ZW5kb3JzIjp7ImVuYWJsZWQiOlsiZ29vZ2xlIiwiYzpsaW5rZWRpbi1tYXJrZXRpbmctc29sdXRpb25zIiwiYzptaXhwYW5lbCIsImM6YWJ0YXN0eS1MTGtFQ0NqOCIsImM6aG90amFyIiwiYzp5YW5kZXhtZXRyaWNzIiwiYzpiZWFtZXItSDd0cjdIaXgiLCJjOmFwcHNmbHllci1HVVZQTHBZWSIsImM6dGVhbGl1bWNvLURWRENkOFpQIiwiYzp0aWt0b2stS1pBVVFMWjkiLCJjOmlkZWFsaXN0YS1MenRCZXFFMyIsImM6aWRlYWxpc3RhLWZlUkVqZTJjIl19LCJhYyI6IkFGbUFDQUZrLkFGbUFDQUZrIn0=',\n",
    "    'euconsent-v2': 'CPpE-EAPpE-EAAHABBENC8CsAP_AAE7AAAAAF5wBQAIAAtAC2AKQBeYAAACA0AGAAIJTEoAMAAQSmKQAYAAglMQgAwABBKYdABgACCUwSADAAEEphkAGAAIJTCoAMAAQSmAA.f_gACdgAAAAA',\n",
    "    '_gcl_au': '1.1.1276745818.1679568907',\n",
    "    '_hjFirstSeen': '1',\n",
    "    '_hjSession_250321': 'eyJpZCI6ImNlNzJlZTNiLTcwZjgtNGUwMC1iYTY3LTZiYzJlYWRiZGI1NiIsImNyZWF0ZWQiOjE2Nzk1Njg5MDczMDMsImluU2FtcGxlIjp0cnVlfQ==',\n",
    "    '_hjAbsoluteSessionInProgress': '1',\n",
    "    '_fbp': 'fb.1.1679568907315.1686135134',\n",
    "    '_tt_enable_cookie': '1',\n",
    "    '_ttp': 'yM4YuSR3x8nNbGap7-IQwv0N6UQ',\n",
    "    '_hjSessionUser_250321': 'eyJpZCI6ImRiOGY1ZTk2LTc2NzAtNTRjZi05OTI0LTE5YWQxNTVjNTYxMyIsImNyZWF0ZWQiOjE2Nzk1Njg5MDcyOTYsImV4aXN0aW5nIjp0cnVlfQ==',\n",
    "    'utag_main': 'v_id:01870dd621c40055fa87fd3b86b405065008605d00bd0$_sn:2$_se:52$_ss:0$_st:1679572064088$ses_id:1679568895718%3Bexp-session$_pn:52%3Bexp-session$_prevVtSource:directTraffic%3Bexp-1679572495936$_prevVtCampaignCode:%3Bexp-1679572495936$_prevVtDomainReferrer:idealista.com%3Bexp-1679572495936$_prevVtSubdomaninReferrer:www.idealista.com%3Bexp-1679572495936$_prevVtUrlReferrer:https%3A%2F%2Fwww.idealista.com%2F%3Bexp-1679572495936$_prevVtCampaignLinkName:%3Bexp-1679572495936$_prevVtCampaignName:%3Bexp-1679572495936$_prevVtRecommendationId:%3Bexp-1679572495936$_prevCompletePageName:255%20%3E%20%3Bexp-1679573864198$_prevLevel2:255%3Bexp-1679573864198$_prevCompleteClickName:',\n",
    "    '_hjIncludedInSessionSample_250321': '1',\n",
    "    '_hjHasCachedUserAttributes': 'true',\n",
    "    'datadome': '2P7dWk72DzQo67jt6ZnKkP~BTcw5Xo69lBPxmMdXnRh71OiYYv3iTlOQPGsXj0hDa~_KrDehoeumQZXMjDz_pGWW4qo6fkc0RD2Q2yqxI9zVgd7hNTm6CQADZQk1cs7E',\n",
    "    'outbrain_cid_fetch': 'true',\n",
    "}\n",
    "\n",
    "headers = {\n",
    "    'authority': 'www.idealista.com',\n",
    "    'accept': 'text/html,application/xhtml+xml,application/xml;q=0.9,image/avif,image/webp,image/apng,*/*;q=0.8,application/signed-exchange;v=b3;q=0.7',\n",
    "    'accept-language': 'es-ES,es;q=0.9,en;q=0.8,ca;q=0.7',\n",
    "    'cache-control': 'max-age=0',\n",
    "    # 'cookie': 'atuserid=%7B%22name%22%3A%22atuserid%22%2C%22val%22%3A%2265923206-622f-451c-9784-07de945faea3%22%2C%22options%22%3A%7B%22end%22%3A%222024-04-23T09%3A39%3A10.029Z%22%2C%22path%22%3A%22%2F%22%7D%7D; atidvisitor=%7B%22name%22%3A%22atidvisitor%22%2C%22val%22%3A%7B%22vrn%22%3A%22-582065-%22%7D%2C%22options%22%3A%7B%22path%22%3A%22%2F%22%2C%22session%22%3A15724800%2C%22end%22%3A15724800%7D%7D; didomi_token=eyJ1c2VyX2lkIjoiMTg3MGRkNjItMTIwOC02YzAyLWFiOTctMmI0NjdhMjE0OTU1IiwiY3JlYXRlZCI6IjIwMjMtMDMtMjNUMTA6NTQ6NTcuNjk5WiIsInVwZGF0ZWQiOiIyMDIzLTAzLTIzVDEwOjU0OjU3LjY5OVoiLCJ2ZXJzaW9uIjoyLCJwdXJwb3NlcyI6eyJlbmFibGVkIjpbImFuYWx5dGljcy1IcEJKcnJLNyIsImdlb2xvY2F0aW9uX2RhdGEiLCJkZXZpY2VfY2hhcmFjdGVyaXN0aWNzIl19LCJ2ZW5kb3JzIjp7ImVuYWJsZWQiOlsiZ29vZ2xlIiwiYzpsaW5rZWRpbi1tYXJrZXRpbmctc29sdXRpb25zIiwiYzptaXhwYW5lbCIsImM6YWJ0YXN0eS1MTGtFQ0NqOCIsImM6aG90amFyIiwiYzp5YW5kZXhtZXRyaWNzIiwiYzpiZWFtZXItSDd0cjdIaXgiLCJjOmFwcHNmbHllci1HVVZQTHBZWSIsImM6dGVhbGl1bWNvLURWRENkOFpQIiwiYzp0aWt0b2stS1pBVVFMWjkiLCJjOmlkZWFsaXN0YS1MenRCZXFFMyIsImM6aWRlYWxpc3RhLWZlUkVqZTJjIl19LCJhYyI6IkFGbUFDQUZrLkFGbUFDQUZrIn0=; euconsent-v2=CPpE-EAPpE-EAAHABBENC8CsAP_AAE7AAAAAF5wBQAIAAtAC2AKQBeYAAACA0AGAAIJTEoAMAAQSmKQAYAAglMQgAwABBKYdABgACCUwSADAAEEphkAGAAIJTCoAMAAQSmAA.f_gACdgAAAAA; _gcl_au=1.1.1276745818.1679568907; _hjFirstSeen=1; _hjSession_250321=eyJpZCI6ImNlNzJlZTNiLTcwZjgtNGUwMC1iYTY3LTZiYzJlYWRiZGI1NiIsImNyZWF0ZWQiOjE2Nzk1Njg5MDczMDMsImluU2FtcGxlIjp0cnVlfQ==; _hjAbsoluteSessionInProgress=1; _fbp=fb.1.1679568907315.1686135134; _tt_enable_cookie=1; _ttp=yM4YuSR3x8nNbGap7-IQwv0N6UQ; _hjSessionUser_250321=eyJpZCI6ImRiOGY1ZTk2LTc2NzAtNTRjZi05OTI0LTE5YWQxNTVjNTYxMyIsImNyZWF0ZWQiOjE2Nzk1Njg5MDcyOTYsImV4aXN0aW5nIjp0cnVlfQ==; utag_main=v_id:01870dd621c40055fa87fd3b86b405065008605d00bd0$_sn:2$_se:52$_ss:0$_st:1679572064088$ses_id:1679568895718%3Bexp-session$_pn:52%3Bexp-session$_prevVtSource:directTraffic%3Bexp-1679572495936$_prevVtCampaignCode:%3Bexp-1679572495936$_prevVtDomainReferrer:idealista.com%3Bexp-1679572495936$_prevVtSubdomaninReferrer:www.idealista.com%3Bexp-1679572495936$_prevVtUrlReferrer:https%3A%2F%2Fwww.idealista.com%2F%3Bexp-1679572495936$_prevVtCampaignLinkName:%3Bexp-1679572495936$_prevVtCampaignName:%3Bexp-1679572495936$_prevVtRecommendationId:%3Bexp-1679572495936$_prevCompletePageName:255%20%3E%20%3Bexp-1679573864198$_prevLevel2:255%3Bexp-1679573864198$_prevCompleteClickName:; _hjIncludedInSessionSample_250321=1; _hjHasCachedUserAttributes=true; datadome=2P7dWk72DzQo67jt6ZnKkP~BTcw5Xo69lBPxmMdXnRh71OiYYv3iTlOQPGsXj0hDa~_KrDehoeumQZXMjDz_pGWW4qo6fkc0RD2Q2yqxI9zVgd7hNTm6CQADZQk1cs7E; outbrain_cid_fetch=true',\n",
    "    'sec-ch-ua': '\"Chromium\";v=\"110\", \"Not A(Brand\";v=\"24\", \"Google Chrome\";v=\"110\"',\n",
    "    'sec-ch-ua-mobile': '?0',\n",
    "    'sec-ch-ua-platform': '\"Linux\"',\n",
    "    'sec-fetch-dest': 'document',\n",
    "    'sec-fetch-mode': 'navigate',\n",
    "    'sec-fetch-site': 'none',\n",
    "    'sec-fetch-user': '?1',\n",
    "    'upgrade-insecure-requests': '1',\n",
    "    'user-agent': 'Mozilla/5.0 (X11; Linux x86_64) AppleWebKit/537.36 (KHTML, like Gecko) Chrome/110.0.0.0 Safari/537.36',\n",
    "}\n"
   ]
  },
  {
   "cell_type": "markdown",
   "metadata": {},
   "source": [
    "Cargamos el dataset de los barrios para poder obtener los diferentes distritos que vamos a consultar en Idealista."
   ]
  },
  {
   "cell_type": "code",
   "execution_count": 2,
   "metadata": {},
   "outputs": [
    {
     "data": {
      "text/html": [
       "<div>\n",
       "<style scoped>\n",
       "    .dataframe tbody tr th:only-of-type {\n",
       "        vertical-align: middle;\n",
       "    }\n",
       "\n",
       "    .dataframe tbody tr th {\n",
       "        vertical-align: top;\n",
       "    }\n",
       "\n",
       "    .dataframe thead th {\n",
       "        text-align: right;\n",
       "    }\n",
       "</style>\n",
       "<table border=\"1\" class=\"dataframe\">\n",
       "  <thead>\n",
       "    <tr style=\"text-align: right;\">\n",
       "      <th></th>\n",
       "      <th>CODDIS</th>\n",
       "      <th>NOMDIS</th>\n",
       "    </tr>\n",
       "  </thead>\n",
       "  <tbody>\n",
       "    <tr>\n",
       "      <th>43</th>\n",
       "      <td>2</td>\n",
       "      <td>Arganzuela</td>\n",
       "    </tr>\n",
       "    <tr>\n",
       "      <th>111</th>\n",
       "      <td>21</td>\n",
       "      <td>Barajas</td>\n",
       "    </tr>\n",
       "    <tr>\n",
       "      <th>7</th>\n",
       "      <td>11</td>\n",
       "      <td>Carabanchel</td>\n",
       "    </tr>\n",
       "    <tr>\n",
       "      <th>63</th>\n",
       "      <td>1</td>\n",
       "      <td>Centro</td>\n",
       "    </tr>\n",
       "    <tr>\n",
       "      <th>89</th>\n",
       "      <td>5</td>\n",
       "      <td>Chamartín</td>\n",
       "    </tr>\n",
       "    <tr>\n",
       "      <th>73</th>\n",
       "      <td>7</td>\n",
       "      <td>Chamberí</td>\n",
       "    </tr>\n",
       "    <tr>\n",
       "      <th>67</th>\n",
       "      <td>15</td>\n",
       "      <td>Ciudad Lineal</td>\n",
       "    </tr>\n",
       "    <tr>\n",
       "      <th>125</th>\n",
       "      <td>8</td>\n",
       "      <td>Fuencarral - El Pardo</td>\n",
       "    </tr>\n",
       "    <tr>\n",
       "      <th>124</th>\n",
       "      <td>16</td>\n",
       "      <td>Hortaleza</td>\n",
       "    </tr>\n",
       "    <tr>\n",
       "      <th>52</th>\n",
       "      <td>10</td>\n",
       "      <td>Latina</td>\n",
       "    </tr>\n",
       "    <tr>\n",
       "      <th>107</th>\n",
       "      <td>9</td>\n",
       "      <td>Moncloa - Aravaca</td>\n",
       "    </tr>\n",
       "    <tr>\n",
       "      <th>45</th>\n",
       "      <td>14</td>\n",
       "      <td>Moratalaz</td>\n",
       "    </tr>\n",
       "    <tr>\n",
       "      <th>19</th>\n",
       "      <td>13</td>\n",
       "      <td>Puente de Vallecas</td>\n",
       "    </tr>\n",
       "    <tr>\n",
       "      <th>56</th>\n",
       "      <td>3</td>\n",
       "      <td>Retiro</td>\n",
       "    </tr>\n",
       "    <tr>\n",
       "      <th>61</th>\n",
       "      <td>4</td>\n",
       "      <td>Salamanca</td>\n",
       "    </tr>\n",
       "    <tr>\n",
       "      <th>86</th>\n",
       "      <td>20</td>\n",
       "      <td>San Blas - Canillejas</td>\n",
       "    </tr>\n",
       "    <tr>\n",
       "      <th>99</th>\n",
       "      <td>6</td>\n",
       "      <td>Tetuán</td>\n",
       "    </tr>\n",
       "    <tr>\n",
       "      <th>11</th>\n",
       "      <td>12</td>\n",
       "      <td>Usera</td>\n",
       "    </tr>\n",
       "    <tr>\n",
       "      <th>130</th>\n",
       "      <td>19</td>\n",
       "      <td>Vicálvaro</td>\n",
       "    </tr>\n",
       "    <tr>\n",
       "      <th>17</th>\n",
       "      <td>18</td>\n",
       "      <td>Villa de Vallecas</td>\n",
       "    </tr>\n",
       "    <tr>\n",
       "      <th>4</th>\n",
       "      <td>17</td>\n",
       "      <td>Villaverde</td>\n",
       "    </tr>\n",
       "  </tbody>\n",
       "</table>\n",
       "</div>"
      ],
      "text/plain": [
       "     CODDIS                 NOMDIS\n",
       "43        2             Arganzuela\n",
       "111      21                Barajas\n",
       "7        11            Carabanchel\n",
       "63        1                 Centro\n",
       "89        5              Chamartín\n",
       "73        7               Chamberí\n",
       "67       15          Ciudad Lineal\n",
       "125       8  Fuencarral - El Pardo\n",
       "124      16              Hortaleza\n",
       "52       10                 Latina\n",
       "107       9      Moncloa - Aravaca\n",
       "45       14              Moratalaz\n",
       "19       13     Puente de Vallecas\n",
       "56        3                 Retiro\n",
       "61        4              Salamanca\n",
       "86       20  San Blas - Canillejas\n",
       "99        6                 Tetuán\n",
       "11       12                  Usera\n",
       "130      19              Vicálvaro\n",
       "17       18      Villa de Vallecas\n",
       "4        17             Villaverde"
      ]
     },
     "execution_count": 2,
     "metadata": {},
     "output_type": "execute_result"
    }
   ],
   "source": [
    "#Obtenemos los distritos:\n",
    "barrios_df = pd.read_csv('datos/raw/Barrios.csv', decimal=',', delimiter=';',header=0)[['COD_BAR', 'NOMBRE', 'CODDIS','NOMDIS']]                                                                                        \n",
    "distritos = barrios_df.sort_values('NOMDIS')[['CODDIS','NOMDIS']].drop_duplicates()\n",
    "distritos"
   ]
  },
  {
   "cell_type": "markdown",
   "metadata": {},
   "source": [
    "# Obtención de precios de venta y alquiler.\n",
    "\n",
    "Para cada distrito de los obtenidos anteriormente, se realiza la extracción tanto de los precios de alquiler como de venta desde la página de Idealista. "
   ]
  },
  {
   "cell_type": "code",
   "execution_count": null,
   "metadata": {},
   "outputs": [],
   "source": [
    "#Obtenemos precio de venta y alquiler\n",
    "for tipo in ['venta','alquiler']:\n",
    "        for distrito in distritos:\n",
    "            print('Obteniendo datos de {} del distrito: {}...'.format(tipo,distrito.NOMDIS))\n",
    "            url = 'https://www.idealista.com/sala-de-prensa/informes-precio-vivienda/{}/madrid-comunidad/madrid-provincia/madrid/{}/historico/'.format(tipo,distrito.lower().replace(' ','-'))\n",
    "            response = requests.get(url, cookies=cookies, headers=headers)\n",
    "            df = pd.read_html(response.text)[0]\n",
    "            df = df.loc[df['precio_{}_m2'.format(tipo)] != 'n.d.']\n",
    "            df_final.to_csv('datos/raw/precio{}/{}.csv'.format(tipo), index=false)\n"
   ]
  },
  {
   "cell_type": "markdown",
   "metadata": {},
   "source": [
    "Para cada csv se tratan los datos de venta de los pisos. Se recorren todos los csv de los distritos independientes, se da el formato correspondiente y se almacena el csv resultate con todos los datos historicos de venta en único csv."
   ]
  },
  {
   "cell_type": "code",
   "execution_count": 4,
   "metadata": {},
   "outputs": [
    {
     "name": "stdout",
     "output_type": "stream",
     "text": [
      "datos/raw/precioventa/arganzuela.csv\n",
      "datos/raw/precioventa/barajas.csv\n",
      "datos/raw/precioventa/carabanchel.csv\n",
      "datos/raw/precioventa/centro.csv\n",
      "datos/raw/precioventa/chamartín.csv\n",
      "datos/raw/precioventa/chamberí.csv\n",
      "datos/raw/precioventa/ciudad-lineal.csv\n",
      "datos/raw/precioventa/fuencarral.csv\n",
      "datos/raw/precioventa/hortaleza.csv\n",
      "datos/raw/precioventa/latina.csv\n",
      "datos/raw/precioventa/moncloa.csv\n",
      "datos/raw/precioventa/moratalaz.csv\n",
      "datos/raw/precioventa/puente-de-vallecas.csv\n",
      "datos/raw/precioventa/retiro.csv\n",
      "datos/raw/precioventa/salamanca.csv\n",
      "datos/raw/precioventa/san-blas.csv\n",
      "datos/raw/precioventa/tetuán.csv\n",
      "datos/raw/precioventa/usera.csv\n",
      "datos/raw/precioventa/vicálvaro.csv\n",
      "datos/raw/precioventa/villa-de-vallecas.csv\n",
      "datos/raw/precioventa/villaverde.csv\n"
     ]
    }
   ],
   "source": [
    "#Tratamos los datos de precio de venta:\n",
    "df_total = pd.DataFrame()\n",
    "for index, distrito in distritos.iterrows():\n",
    "    coddis = distrito['CODDIS']\n",
    "    nomdis = distrito['NOMDIS']\n",
    "    file = 'datos/raw/precioventa/{}.csv'.format(nomdis.lower().split('-')[0].strip().replace(' ','-'))\n",
    "    print(file)\n",
    "    df = pd.read_csv(file, delimiter=';',header=0)\n",
    "    df['CODDIS'] = coddis\n",
    "    df['NOMDIS'] = nomdis\n",
    "    df[['Mes','ANIO']] = df.Mes.str.split(' ', expand=True)\n",
    "    df = df[df['Mes']=='Diciembre']\n",
    "    df['Precio m2'] = df['Precio m2'].str.replace(' €/m2','')\n",
    "    df = df[['ANIO', 'CODDIS','NOMDIS','Precio m2']]\n",
    "    df.rename(columns = {'Precio m2':'PrecioVentaEurosM2'}, inplace = True)\n",
    "    df_total = pd.concat([df_total,df])\n",
    "\n",
    "df_total.to_csv('datos/raw/precioventahistorico.csv', sep=';',index=False)"
   ]
  },
  {
   "cell_type": "markdown",
   "metadata": {},
   "source": [
    "Se realiza el mismo proceso que se ha realizado para los precios de venta, pero en este caso para los precios de alquiler. Se genera un unico fichero con el historico de precios de alquiler de todos los distritos."
   ]
  },
  {
   "cell_type": "code",
   "execution_count": 5,
   "metadata": {},
   "outputs": [
    {
     "name": "stdout",
     "output_type": "stream",
     "text": [
      "datos/raw/precioalquiler/arganzuela.csv\n",
      "datos/raw/precioalquiler/barajas.csv\n",
      "datos/raw/precioalquiler/carabanchel.csv\n",
      "datos/raw/precioalquiler/centro.csv\n",
      "datos/raw/precioalquiler/chamartín.csv\n",
      "datos/raw/precioalquiler/chamberí.csv\n",
      "datos/raw/precioalquiler/ciudad-lineal.csv\n",
      "datos/raw/precioalquiler/fuencarral.csv\n",
      "datos/raw/precioalquiler/hortaleza.csv\n",
      "datos/raw/precioalquiler/latina.csv\n",
      "datos/raw/precioalquiler/moncloa.csv\n",
      "datos/raw/precioalquiler/moratalaz.csv\n",
      "datos/raw/precioalquiler/puente-de-vallecas.csv\n",
      "datos/raw/precioalquiler/retiro.csv\n",
      "datos/raw/precioalquiler/salamanca.csv\n",
      "datos/raw/precioalquiler/san-blas.csv\n",
      "datos/raw/precioalquiler/tetuán.csv\n",
      "datos/raw/precioalquiler/usera.csv\n",
      "datos/raw/precioalquiler/vicálvaro.csv\n",
      "datos/raw/precioalquiler/villa-de-vallecas.csv\n",
      "datos/raw/precioalquiler/villaverde.csv\n"
     ]
    }
   ],
   "source": [
    "#Tratamos los datos de precio de alquiler:\n",
    "df_total = pd.DataFrame()\n",
    "for index, distrito in distritos.iterrows():\n",
    "    coddis = distrito['CODDIS']\n",
    "    nomdis = distrito['NOMDIS']\n",
    "    file = 'datos/raw/precioalquiler/{}.csv'.format(nomdis.lower().split('-')[0].strip().replace(' ','-'))\n",
    "    print(file)\n",
    "    df = pd.read_csv(file, delimiter=';',header=0)\n",
    "    df['CODDIS'] = coddis\n",
    "    df['NOMDIS'] = nomdis\n",
    "    df[['Mes','ANIO']] = df.Mes.str.split(' ', expand=True)\n",
    "    df = df[df['Mes']=='Diciembre']\n",
    "    df['Precio m2'] = df['Precio m2'].str.replace(' €/m2','')\n",
    "    df = df[['ANIO', 'CODDIS','NOMDIS','Precio m2']]\n",
    "    df.rename(columns = {'Precio m2':'PrecioAlquilerEurosM2'}, inplace = True)\n",
    "    df_total = pd.concat([df_total,df])\n",
    "\n",
    "df_total.to_csv('datos/raw/precioalquilerhistorico.csv', sep=';',index=False)"
   ]
  }
 ],
 "metadata": {
  "kernelspec": {
   "display_name": "Python 3 (ipykernel)",
   "language": "python",
   "name": "python3"
  },
  "language_info": {
   "codemirror_mode": {
    "name": "ipython",
    "version": 3
   },
   "file_extension": ".py",
   "mimetype": "text/x-python",
   "name": "python",
   "nbconvert_exporter": "python",
   "pygments_lexer": "ipython3",
   "version": "3.9.12"
  },
  "vscode": {
   "interpreter": {
    "hash": "e1f77ec7ea8f9c08e772eb20cc38b2b6a296a76610ca7ce43ba9660944dcec36"
   }
  }
 },
 "nbformat": 4,
 "nbformat_minor": 2
}
